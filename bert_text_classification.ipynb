{
  "nbformat": 4,
  "nbformat_minor": 0,
  "metadata": {
    "colab": {
      "provenance": [],
      "gpuType": "T4"
    },
    "kernelspec": {
      "name": "python3",
      "display_name": "Python 3"
    },
    "language_info": {
      "name": "python"
    },
    "accelerator": "GPU"
  },
  "cells": [
    {
      "cell_type": "code",
      "source": [
        "!pip install datasets"
      ],
      "metadata": {
        "collapsed": true,
        "id": "GDJb0VeY-VES"
      },
      "execution_count": null,
      "outputs": []
    },
    {
      "cell_type": "code",
      "source": [
        "from transformers import BertTokenizer, BertForSequenceClassification, Trainer, TrainingArguments\n",
        "from datasets import load_dataset\n",
        "import torch\n",
        "import pandas as pd\n",
        "from transformers import AutoTokenizer, AutoModelForCausalLM\n",
        "from huggingface_hub import login\n",
        "from sklearn.preprocessing import LabelEncoder\n",
        "import json\n",
        "from sklearn.metrics import confusion_matrix, ConfusionMatrixDisplay\n",
        "import matplotlib.pyplot as plt"
      ],
      "metadata": {
        "id": "q1LsDFm19dh1"
      },
      "execution_count": null,
      "outputs": []
    },
    {
      "cell_type": "code",
      "source": [
        "import warnings\n",
        "warnings.filterwarnings(\"ignore\")"
      ],
      "metadata": {
        "id": "dkqfeo86-q8Z"
      },
      "execution_count": null,
      "outputs": []
    },
    {
      "cell_type": "code",
      "source": [
        "!pip install huggingface_hub"
      ],
      "metadata": {
        "collapsed": true,
        "id": "KCKco6yYFTW4"
      },
      "execution_count": null,
      "outputs": []
    },
    {
      "cell_type": "code",
      "source": [
        "# 1. Авторизация HF\n",
        "!huggingface-cli login"
      ],
      "metadata": {
        "id": "7cLS7c78-rxw"
      },
      "execution_count": null,
      "outputs": []
    },
    {
      "cell_type": "code",
      "source": [
        "# Загрузить новый датасет из HF\n",
        "dataset = load_dataset(\"takiholadi/kill-me-please-dataset\")"
      ],
      "metadata": {
        "id": "i2qD0iEI-vQL"
      },
      "execution_count": null,
      "outputs": []
    },
    {
      "cell_type": "code",
      "source": [
        "# Разделение на обучающую и тестовую выборки\n",
        "train_dataset = dataset['train'].remove_columns(['votes', 'url', 'datetime'])\n",
        "val_dataset = dataset['test'].remove_columns(['votes', 'url', 'datetime'])"
      ],
      "metadata": {
        "id": "kEfeqAEI-z1B"
      },
      "execution_count": null,
      "outputs": []
    },
    {
      "cell_type": "code",
      "source": [
        "# Просмотр\n",
        "train_dataset = pd.DataFrame(train_dataset)\n",
        "print(train_dataset.head(10))"
      ],
      "metadata": {
        "id": "jJLWI5tkLoeG"
      },
      "execution_count": null,
      "outputs": []
    },
    {
      "cell_type": "code",
      "source": [
        "# Проверка наличия None значений в столбце 'tags'\n",
        "print(\"Количество None значений в train_dataset['tags']:\", train_dataset['tags'].isna().sum())\n",
        "val_dataset = pd.DataFrame(val_dataset)\n",
        "print(\"Количество None значений в val_dataset['tags']:\", val_dataset['tags'].isna().sum())"
      ],
      "metadata": {
        "id": "sovYfPffOP5D"
      },
      "execution_count": null,
      "outputs": []
    },
    {
      "cell_type": "code",
      "source": [
        "train_dataset = train_dataset.dropna(subset=['tags'])"
      ],
      "metadata": {
        "id": "ZK92G2byPc9D"
      },
      "execution_count": null,
      "outputs": []
    },
    {
      "cell_type": "code",
      "source": [
        "# Перенумерация меток, чтобы они были последовательными\n",
        "unique_labels = sorted(set(train_dataset['tags']) | set(val_dataset['tags']))\n",
        "label_mapping = {label: idx for idx, label in enumerate(unique_labels)}\n",
        "train_labels = [label_mapping[label] for label in train_dataset['tags']]\n",
        "val_labels = [label_mapping[label] for label in val_dataset['tags']]\n",
        "num_labels = len(unique_labels)"
      ],
      "metadata": {
        "id": "KiyAbCKyCofK"
      },
      "execution_count": null,
      "outputs": []
    },
    {
      "cell_type": "code",
      "source": [
        "# Предпросмотр новых меток\n",
        "print(\"Новые метки после перекодирования:\", label_mapping)"
      ],
      "metadata": {
        "id": "GYnpklvvCrjN"
      },
      "execution_count": null,
      "outputs": []
    },
    {
      "cell_type": "code",
      "source": [
        "# Сохранение словаря в файл для дальнейшего использования\n",
        "with open('label_mapping.json', 'w') as f:\n",
        "    json.dump(label_mapping, f)"
      ],
      "metadata": {
        "id": "FXuUY1YxHOn-"
      },
      "execution_count": null,
      "outputs": []
    },
    {
      "cell_type": "code",
      "source": [
        "# 3. Загрузка токенизатора и модели\n",
        "tokenizer = BertTokenizer.from_pretrained('cointegrated/rubert-tiny2')\n",
        "model = BertForSequenceClassification.from_pretrained('cointegrated/rubert-tiny2', num_labels=num_labels)"
      ],
      "metadata": {
        "id": "GdGvOL81-1Qp"
      },
      "execution_count": null,
      "outputs": []
    },
    {
      "cell_type": "code",
      "source": [
        "# 4. Токенизация данных\n",
        "train_encodings = tokenizer(train_dataset['text'].tolist(), truncation=True, padding=True, max_length=128)\n",
        "val_encodings = tokenizer(val_dataset['text'].tolist(), truncation=True, padding=True, max_length=128)"
      ],
      "metadata": {
        "id": "SR5zmdDY_G0X"
      },
      "execution_count": null,
      "outputs": []
    },
    {
      "cell_type": "code",
      "source": [
        "# 5. Создание PyTorch Dataset\n",
        "class TextDataset(torch.utils.data.Dataset):\n",
        "    def __init__(self, encodings, labels):\n",
        "        # Конструктор класса, принимает токенизированные данные и метки\n",
        "        self.encodings = encodings  # Сохранение токенизированных данных в объекте\n",
        "        self.labels = labels  # Сохранение меток в объекте\n",
        "\n",
        "    def __getitem__(self, idx):\n",
        "        # Возвращает один элемент данных по индексу\n",
        "        # Создает словарь, в котором ключи - это поля токенизированных данных, а значения - соответствующие тензоры\n",
        "        item = {key: torch.tensor(val[idx]) for key, val in self.encodings.items()}\n",
        "        item['labels'] = torch.tensor(self.labels[idx])  # Добавление метки класса в элемент\n",
        "        return item\n",
        "\n",
        "    def __len__(self):\n",
        "        # Возвращает количество элементов в датасете\n",
        "        return len(self.labels)"
      ],
      "metadata": {
        "id": "6E7LClrI_SEt"
      },
      "execution_count": null,
      "outputs": []
    },
    {
      "cell_type": "code",
      "source": [
        "train_dataset = TextDataset(train_encodings, train_labels)  # Создание объекта TextDataset для обучающей выборки\n",
        "val_dataset = TextDataset(val_encodings, val_labels)  # Создание объекта TextDataset для тестовой выборки"
      ],
      "metadata": {
        "id": "MgWsxiikH8j2"
      },
      "execution_count": null,
      "outputs": []
    },
    {
      "cell_type": "code",
      "source": [
        "# 6. Настройка параметров обучения\n",
        "training_args = TrainingArguments(\n",
        "    output_dir='./results',          # выходная директория\n",
        "    num_train_epochs=3,              # количество эпох\n",
        "    per_device_train_batch_size=16,  # размер batch для обучения\n",
        "    per_device_eval_batch_size=16,   # размер batch для оценки\n",
        "    evaluation_strategy='epoch',     # стратегия оценки\n",
        "    save_strategy='epoch',           # стратегия сохранения модели\n",
        "    logging_dir='./logs',            # директория для логов\n",
        "    logging_steps=10,\n",
        "    load_best_model_at_end=True,\n",
        "    metric_for_best_model='accuracy'\n",
        ")"
      ],
      "metadata": {
        "id": "IEMtjHZu_Uxr"
      },
      "execution_count": null,
      "outputs": []
    },
    {
      "cell_type": "code",
      "source": [
        "# 7. Определение метрик для оценки\n",
        "from sklearn.metrics import accuracy_score, f1_score\n",
        "\n",
        "def compute_metrics(pred):\n",
        "    labels = pred.label_ids\n",
        "    preds = pred.predictions.argmax(-1)\n",
        "    acc = accuracy_score(labels, preds)\n",
        "    f1 = f1_score(labels, preds, average='weighted')\n",
        "    return {'accuracy': acc, 'f1': f1}"
      ],
      "metadata": {
        "id": "cyTXYSNr_VmZ"
      },
      "execution_count": null,
      "outputs": []
    },
    {
      "cell_type": "code",
      "source": [
        "# 8. Создание объекта Trainer и запуск обучения\n",
        "trainer = Trainer(\n",
        "    model=model,\n",
        "    args=training_args,\n",
        "    train_dataset=train_dataset,\n",
        "    eval_dataset=val_dataset,\n",
        "    compute_metrics=compute_metrics\n",
        ")"
      ],
      "metadata": {
        "id": "sG2jEy4V_Xma"
      },
      "execution_count": null,
      "outputs": []
    },
    {
      "cell_type": "code",
      "source": [
        "trainer.train()"
      ],
      "metadata": {
        "id": "1arjIB3r_bwf"
      },
      "execution_count": null,
      "outputs": []
    },
    {
      "cell_type": "code",
      "source": [
        "# 9. Сохранение модели\n",
        "model.save_pretrained('./fine_tuned_model')\n",
        "tokenizer.save_pretrained('./fine_tuned_model')"
      ],
      "metadata": {
        "id": "qKFlNT1dqBBI"
      },
      "execution_count": null,
      "outputs": []
    },
    {
      "cell_type": "code",
      "source": [
        "# 10. Проверка работы модели - генерация текстов и предсказание\n",
        "sample_texts = [\n",
        "    \"Сегодня у меня был ужасный день на работе, все пошло не так.\",\n",
        "    \"Пошел на прогулку с друзьями, чувствую себя счастливым.\",\n",
        "    \"Сломался мой ноутбук, не знаю, что делать.\"\n",
        "    \"Сдал экзамен на отлично, очень рад своему успеху!\",\n",
        "    \"Поссорился с коллегой на работе, чувствую себя подавленным.\",\n",
        "    \"Записался на курсы по йоге, надеюсь улучшить свое здоровье и настроение.\"\n",
        "]"
      ],
      "metadata": {
        "id": "QULAtJ8vqGXy"
      },
      "execution_count": null,
      "outputs": []
    },
    {
      "cell_type": "code",
      "source": [
        "# Токенизация тестовых текстов\n",
        "sample_encodings = tokenizer(sample_texts, truncation=True, padding=True, max_length=128, return_tensors='pt')"
      ],
      "metadata": {
        "id": "-mc2tJyVqhRB"
      },
      "execution_count": null,
      "outputs": []
    },
    {
      "cell_type": "code",
      "source": [
        "# Определение устройства (CPU или GPU)\n",
        "device = torch.device('cuda' if torch.cuda.is_available() else 'cpu')"
      ],
      "metadata": {
        "id": "jYKsXHP2skcQ"
      },
      "execution_count": null,
      "outputs": []
    },
    {
      "cell_type": "code",
      "source": [
        "# Перевод модели на устройство и в режим оценки\n",
        "model.to(device)\n",
        "model.eval()"
      ],
      "metadata": {
        "id": "pQKtgavUsnOf"
      },
      "execution_count": null,
      "outputs": []
    },
    {
      "cell_type": "code",
      "source": [
        "# Перемещение входных данных на то же устройство\n",
        "sample_encodings = {key: val.to(device) for key, val in sample_encodings.items()}"
      ],
      "metadata": {
        "id": "Fp_jPt-rqjw5"
      },
      "execution_count": null,
      "outputs": []
    },
    {
      "cell_type": "code",
      "source": [
        "# Прогон текстов через модель и получение предсказаний\n",
        "with torch.no_grad():\n",
        "    outputs = model(**sample_encodings)\n",
        "    predictions = outputs.logits.argmax(dim=-1)"
      ],
      "metadata": {
        "id": "T1MaJrP9ssRh"
      },
      "execution_count": null,
      "outputs": []
    },
    {
      "cell_type": "code",
      "source": [
        "# Расшифровка предсказанных меток\n",
        "with open('label_mapping.json', 'r') as f:\n",
        "    label_mapping = json.load(f)\n",
        "inv_label_mapping = {v: k for k, v in label_mapping.items()}\n",
        "predicted_labels = [inv_label_mapping[int(pred)] for pred in predictions]"
      ],
      "metadata": {
        "id": "qrvrIupRqo45"
      },
      "execution_count": null,
      "outputs": []
    },
    {
      "cell_type": "code",
      "source": [
        "# Вывод предсказаний\n",
        "for text, label in zip(sample_texts, predicted_labels):\n",
        "    print(f\"Текст: {text}\\nПредсказанные теги: {label}\\n\")"
      ],
      "metadata": {
        "id": "F6tKXhbHqq0h"
      },
      "execution_count": null,
      "outputs": []
    }
  ]
}